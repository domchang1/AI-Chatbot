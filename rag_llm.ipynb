{
 "cells": [
  {
   "cell_type": "code",
   "execution_count": 32,
   "metadata": {},
   "outputs": [],
   "source": [
    "from dotenv import load_dotenv\n",
    "import os"
   ]
  },
  {
   "cell_type": "code",
   "execution_count": 28,
   "metadata": {},
   "outputs": [],
   "source": [
    "load_dotenv()\n",
    "os.environ['OPENAI_API_KEY'] = os.getenv('OPEN_API_KEY')\n",
    "os.environ['PINECONE_API_KEY'] = os.getenv('PINECONE_API_KEY')\n",
    "#pinecone_env = os.getenv('PINECONE_ENV')"
   ]
  },
  {
   "cell_type": "markdown",
   "metadata": {},
   "source": [
    "Embeddings"
   ]
  },
  {
   "cell_type": "code",
   "execution_count": 21,
   "metadata": {},
   "outputs": [],
   "source": [
    "from langchain_openai import OpenAIEmbeddings\n",
    "from langchain_community.document_loaders import TextLoader\n",
    "from langchain_openai import OpenAIEmbeddings\n",
    "from langchain_text_splitters import CharacterTextSplitter\n",
    "\n",
    "embedding = OpenAIEmbeddings(model=\"text-embedding-3-small\", openai_api_key=open_api_key)"
   ]
  },
  {
   "cell_type": "code",
   "execution_count": 24,
   "metadata": {},
   "outputs": [
    {
     "name": "stderr",
     "output_type": "stream",
     "text": [
      "Created a chunk of size 1071, which is longer than the specified 1000\n"
     ]
    }
   ],
   "source": [
    "#Embed the whole first Harry Potter Book\n",
    "\n",
    "loader = TextLoader(\"harry_potter.txt\")\n",
    "documents = loader.load()\n",
    "text_splitter = CharacterTextSplitter(chunk_size=1000, chunk_overlap=0)\n",
    "docs = text_splitter.split_documents(documents)"
   ]
  },
  {
   "cell_type": "markdown",
   "metadata": {},
   "source": [
    "Vector Stores with Pinecone"
   ]
  },
  {
   "cell_type": "code",
   "execution_count": 34,
   "metadata": {},
   "outputs": [],
   "source": [
    "from langchain_pinecone import PineconeVectorStore\n",
    "\n",
    "index_name = \"ai-chatbot\"\n",
    "docsearch = PineconeVectorStore.from_documents(docs, embedding, index_name=index_name)"
   ]
  },
  {
   "cell_type": "markdown",
   "metadata": {},
   "source": [
    "Similarity Search With a Query"
   ]
  },
  {
   "cell_type": "code",
   "execution_count": 36,
   "metadata": {},
   "outputs": [
    {
     "name": "stdout",
     "output_type": "stream",
     "text": [
      "They had reached the station. There was a train to London in five\n",
      "minutes' time. Hagrid, who didn't understand \"Muggle money,\" as he\n",
      "called it, gave the bills to Harry so he could buy their tickets.\n",
      "\n",
      "People stared more than ever on the train. Hagrid took up two seats and\n",
      "sat knitting what looked like a canary-yellow circus tent.\n",
      "\n",
      "\"Still got yer letter, Harry?\" he asked as he counted stitches. Harry\n",
      "took the parchment envelope out of his pocket.\n",
      "\n",
      "\"Good,\" said Hagrid. \"There's a list there of everything yeh need.\"\n",
      "\n",
      "Harry unfolded a second piece of paper he hadn't noticed the night\n",
      "before, and read:\n",
      "\n",
      "HOGWARTS SCHOOL of WITCHCRAFT and WIZARDRY\n",
      "\n",
      "UNIFORM\n",
      "\n",
      "First-year students will require:\n",
      "\n",
      "1. Three sets of plain work robes (black)\n",
      "\n",
      "2. One plain pointed hat (black) for day wear\n",
      "\n",
      "3. One pair of protective gloves (dragon hide or similar)\n",
      "\n",
      "4. One winter cloak (black, silver fastenings)\n",
      "\n",
      "Please note that all pupils' clothes should carry name tags\n",
      "\n",
      "COURSE BOOKS\n"
     ]
    }
   ],
   "source": [
    "query = \"What school is Harry Potter invited to attend?\"\n",
    "\n",
    "embedding_vector = embedding.embed_query(query)\n",
    "# docs = docsearch.similarity_search_by_vector(embedding_vector)\n",
    "docs = docsearch.similarity_search(query)\n",
    "print(docs[0].page_content)"
   ]
  }
 ],
 "metadata": {
  "kernelspec": {
   "display_name": "chamith-research",
   "language": "python",
   "name": "python3"
  },
  "language_info": {
   "codemirror_mode": {
    "name": "ipython",
    "version": 3
   },
   "file_extension": ".py",
   "mimetype": "text/x-python",
   "name": "python",
   "nbconvert_exporter": "python",
   "pygments_lexer": "ipython3",
   "version": "3.9.18"
  }
 },
 "nbformat": 4,
 "nbformat_minor": 2
}
